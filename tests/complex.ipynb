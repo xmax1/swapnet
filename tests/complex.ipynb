{
 "cells": [
  {
   "cell_type": "code",
   "execution_count": 32,
   "metadata": {},
   "outputs": [],
   "source": [
    "\n",
    "import os\n",
    "os.environ['CUDA_VISIBLE_DEVICES'] = '0'\n",
    "\n",
    "import jax\n",
    "from jax import grad, lax\n",
    "from jax import numpy as jnp, random as rnd\n",
    "\n",
    "\n",
    "key = rnd.PRNGKey(1)\n",
    "\n",
    "def create_local_kinetic_energy(wf):\n",
    "    ''' kinetic energy function which works on a vmapped wave function '''\n",
    "\n",
    "    def _lapl_over_f(params, walkers):\n",
    "        n_walkers = walkers.shape[0]\n",
    "        \n",
    "        walkers = walkers.reshape(n_walkers, -1)\n",
    "        \n",
    "        n = walkers.shape[-1]\n",
    "        \n",
    "        eye = jnp.eye(n, dtype=walkers.dtype)[None, ...].repeat(n_walkers, axis=0)\n",
    "        \n",
    "        wf_new = lambda walkers: wf(params, walkers)\n",
    "        grad_f = jax.grad(wf_new, holomorphic=True)\n",
    "\n",
    "        def _body_fun(i, val):\n",
    "            primal, tangent = jax.jvp(grad_f, (walkers,), (eye[..., i],))  # primal / tangent first / second order derivatives\n",
    "            return val + (primal[:, i]**2).squeeze() + (tangent[:, i]).squeeze()\n",
    "\n",
    "        # from lower to upper (lower, upper, func(int, a) -> a, init_val)\n",
    "        # val is the previous  val (initialised to 0.0)\n",
    "        return -0.5 * lax.fori_loop(0, n, _body_fun, jnp.zeros(walkers.shape[0], dtype=jnp.complex64))\n",
    "\n",
    "    return _lapl_over_f\n"
   ]
  },
  {
   "cell_type": "code",
   "execution_count": 33,
   "metadata": {},
   "outputs": [],
   "source": [
    "n_particle = 5\n",
    "n_walkers = 1\n",
    "\n",
    "key, subkey = rnd.split(key)\n",
    "r = rnd.uniform(subkey, (n_walkers, n_particle, 3)).astype(jnp.complex64)\n",
    "\n",
    "key, subkey = rnd.split(key)\n",
    "w = rnd.uniform(subkey, (3, n_particle)).astype(jnp.complex64)\n",
    "\n",
    "key, subkey = rnd.split(key)\n",
    "w_i = rnd.uniform(subkey, (3, n_particle)).astype(jnp.complex64)\n",
    "\n",
    "def psi(params, r):\n",
    "    n_walkers = r.shape[0]\n",
    "    w, w_i = params\n",
    "\n",
    "    if len(r.shape) == 2:\n",
    "        r = r.reshape(n_walkers, -1, 3)\n",
    "    \n",
    "    real = jnp.exp(- jnp.matmul(r, w))\n",
    "    imag = 1j * jnp.exp(- jnp.matmul(r, w_i))\n",
    "\n",
    "    orbitals = real + imag\n",
    "    print(orbitals.shape)\n",
    "\n",
    "    psi = jnp.linalg.det(orbitals)\n",
    "    print(psi.shape)\n",
    "    return psi.sum()\n",
    "\n",
    "first_order = grad(psi, holomorphic=True)\n",
    "laplacian = create_local_kinetic_energy(psi)\n"
   ]
  },
  {
   "cell_type": "code",
   "execution_count": 34,
   "metadata": {},
   "outputs": [
    {
     "name": "stdout",
     "output_type": "stream",
     "text": [
      "(1, 5, 5)\n",
      "(1,)\n",
      "(1, 5, 5)\n",
      "(1,)\n"
     ]
    },
    {
     "data": {
      "text/plain": [
       "DeviceArray([-0.00047366-9.840645e-05j], dtype=complex64)"
      ]
     },
     "execution_count": 34,
     "metadata": {},
     "output_type": "execute_result"
    }
   ],
   "source": [
    "first_order((w, w_i), r)\n",
    "laplacian((w, w_i), r)"
   ]
  },
  {
   "cell_type": "code",
   "execution_count": 18,
   "metadata": {},
   "outputs": [
    {
     "data": {
      "text/plain": [
       "DeviceArray([[[0.24035037+0.j, 0.52228856+0.j, 0.71770823+0.j],\n",
       "              [0.10579169+0.j, 0.10497069+0.j, 0.87328124+0.j],\n",
       "              [0.56231284+0.j, 0.03035879+0.j, 0.64574075+0.j],\n",
       "              [0.31272447+0.j, 0.3981874 +0.j, 0.21055484+0.j],\n",
       "              [0.77974796+0.j, 0.6391331 +0.j, 0.61742246+0.j]]],            dtype=complex64)"
      ]
     },
     "execution_count": 18,
     "metadata": {},
     "output_type": "execute_result"
    }
   ],
   "source": [
    "r"
   ]
  },
  {
   "cell_type": "code",
   "execution_count": null,
   "metadata": {},
   "outputs": [],
   "source": []
  }
 ],
 "metadata": {
  "interpreter": {
   "hash": "61f81c6e3b166a53e11a3ca1f84da318bfb8b5d5645e26df356b212c9ad3e42b"
  },
  "kernelspec": {
   "display_name": "Python 3.8.13 ('swapnet')",
   "language": "python",
   "name": "python3"
  },
  "language_info": {
   "codemirror_mode": {
    "name": "ipython",
    "version": 3
   },
   "file_extension": ".py",
   "mimetype": "text/x-python",
   "name": "python",
   "nbconvert_exporter": "python",
   "pygments_lexer": "ipython3",
   "version": "3.8.13"
  },
  "orig_nbformat": 4
 },
 "nbformat": 4,
 "nbformat_minor": 2
}
